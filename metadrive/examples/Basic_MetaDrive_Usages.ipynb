{
  "cells": [
    {
      "cell_type": "markdown",
      "metadata": {
        "id": "J1w-zrxAUr4l",
        "pycharm": {
          "name": "#%% md\n"
        }
      },
      "source": [
        "# Quick Start Tutorial of the basic functionality of MetaDrive\n",
        "\n",
        "Welcome to MetaDrive!\n",
        "\n",
        "MetaDrive v0.2.5 supports two running modes:\n",
        "\n",
        "1. **With 3D rendering functionality**: MetaDrive can easily install and run on personal computer, but may need special treatments for 3D rendering in headless machines and cloud servers.\n",
        "\n",
        "2. **Without 3D rendering functionality**: MetaDrive can easily be installed and run on any machine. In this Colab notebook, we mainly demonstrate MetaDrive in this mode and the renderer will be the **2D** **Pygame** renderer.\n",
        "\n",
        "In this tutorial, we will navigate you through the installation and some basic functionality of MetaDrive!"
      ]
    },
    {
      "cell_type": "markdown",
      "metadata": {
        "id": "2efvTXdHVptN",
        "pycharm": {
          "name": "#%% md\n"
        }
      },
      "source": [
        "## Installation\n",
        "\n",
        "You can install MetaDrive easily."
      ]
    },
    {
      "cell_type": "code",
      "execution_count": 4,
      "metadata": {
        "colab": {
          "base_uri": "https://localhost:8080/"
        },
        "id": "65J2iQKpUQ1B",
        "outputId": "d426727b-a8ba-41a3-86dc-66f0faa30cf5",
        "pycharm": {
          "name": "#%%\n"
        },
        "scrolled": true
      },
      "outputs": [
        {
          "output_type": "stream",
          "name": "stdout",
          "text": [
            "Collecting git+https://github.com/metadriverse/metadrive.git\n",
            "  Cloning https://github.com/metadriverse/metadrive.git to /tmp/pip-req-build-d3q304lz\n",
            "  Running command git clone --filter=blob:none --quiet https://github.com/metadriverse/metadrive.git /tmp/pip-req-build-d3q304lz\n",
            "  Resolved https://github.com/metadriverse/metadrive.git to commit 85e5dadc6c7436d324348f6e3d8f8e680c06b4db\n",
            "  Preparing metadata (setup.py) ... \u001b[?25l\u001b[?25hdone\n",
            "Requirement already satisfied: requests in /usr/local/lib/python3.11/dist-packages (from metadrive-simulator==0.4.3) (2.32.3)\n",
            "Requirement already satisfied: matplotlib in /usr/local/lib/python3.11/dist-packages (from metadrive-simulator==0.4.3) (3.10.0)\n",
            "Requirement already satisfied: pygame in /usr/local/lib/python3.11/dist-packages (from metadrive-simulator==0.4.3) (2.6.1)\n",
            "Requirement already satisfied: yapf in /usr/local/lib/python3.11/dist-packages (from metadrive-simulator==0.4.3) (0.43.0)\n",
            "Requirement already satisfied: tqdm in /usr/local/lib/python3.11/dist-packages (from metadrive-simulator==0.4.3) (4.67.1)\n",
            "Requirement already satisfied: progressbar in /usr/local/lib/python3.11/dist-packages (from metadrive-simulator==0.4.3) (2.5)\n",
            "Requirement already satisfied: pillow in /usr/local/lib/python3.11/dist-packages (from metadrive-simulator==0.4.3) (11.2.1)\n",
            "Requirement already satisfied: lxml in /usr/local/lib/python3.11/dist-packages (from metadrive-simulator==0.4.3) (5.4.0)\n",
            "Requirement already satisfied: psutil in /usr/local/lib/python3.11/dist-packages (from metadrive-simulator==0.4.3) (5.9.5)\n",
            "Requirement already satisfied: shapely in /usr/local/lib/python3.11/dist-packages (from metadrive-simulator==0.4.3) (2.1.1)\n",
            "Requirement already satisfied: filelock in /usr/local/lib/python3.11/dist-packages (from metadrive-simulator==0.4.3) (3.18.0)\n",
            "Requirement already satisfied: Pygments in /usr/local/lib/python3.11/dist-packages (from metadrive-simulator==0.4.3) (2.19.1)\n",
            "Requirement already satisfied: mediapy in /usr/local/lib/python3.11/dist-packages (from metadrive-simulator==0.4.3) (1.2.4)\n",
            "Requirement already satisfied: panda3d>=1.10.14 in /usr/local/lib/python3.11/dist-packages (from metadrive-simulator==0.4.3) (1.10.15)\n",
            "Requirement already satisfied: panda3d-gltf<1.0,>=0.13 in /usr/local/lib/python3.11/dist-packages (from metadrive-simulator==0.4.3) (0.15.0)\n",
            "Requirement already satisfied: gymnasium>=0.28 in /usr/local/lib/python3.11/dist-packages (from metadrive-simulator==0.4.3) (1.1.1)\n",
            "Requirement already satisfied: numpy>=1.21.6 in /usr/local/lib/python3.11/dist-packages (from metadrive-simulator==0.4.3) (2.0.2)\n",
            "Requirement already satisfied: opencv-python in /usr/local/lib/python3.11/dist-packages (from metadrive-simulator==0.4.3) (4.11.0.86)\n",
            "Requirement already satisfied: cloudpickle>=1.2.0 in /usr/local/lib/python3.11/dist-packages (from gymnasium>=0.28->metadrive-simulator==0.4.3) (3.1.1)\n",
            "Requirement already satisfied: typing-extensions>=4.3.0 in /usr/local/lib/python3.11/dist-packages (from gymnasium>=0.28->metadrive-simulator==0.4.3) (4.14.0)\n",
            "Requirement already satisfied: farama-notifications>=0.0.1 in /usr/local/lib/python3.11/dist-packages (from gymnasium>=0.28->metadrive-simulator==0.4.3) (0.0.4)\n",
            "Requirement already satisfied: panda3d-simplepbr>=0.6 in /usr/local/lib/python3.11/dist-packages (from panda3d-gltf<1.0,>=0.13->metadrive-simulator==0.4.3) (0.13.1)\n",
            "Requirement already satisfied: contourpy>=1.0.1 in /usr/local/lib/python3.11/dist-packages (from matplotlib->metadrive-simulator==0.4.3) (1.3.2)\n",
            "Requirement already satisfied: cycler>=0.10 in /usr/local/lib/python3.11/dist-packages (from matplotlib->metadrive-simulator==0.4.3) (0.12.1)\n",
            "Requirement already satisfied: fonttools>=4.22.0 in /usr/local/lib/python3.11/dist-packages (from matplotlib->metadrive-simulator==0.4.3) (4.58.4)\n",
            "Requirement already satisfied: kiwisolver>=1.3.1 in /usr/local/lib/python3.11/dist-packages (from matplotlib->metadrive-simulator==0.4.3) (1.4.8)\n",
            "Requirement already satisfied: packaging>=20.0 in /usr/local/lib/python3.11/dist-packages (from matplotlib->metadrive-simulator==0.4.3) (24.2)\n",
            "Requirement already satisfied: pyparsing>=2.3.1 in /usr/local/lib/python3.11/dist-packages (from matplotlib->metadrive-simulator==0.4.3) (3.2.3)\n",
            "Requirement already satisfied: python-dateutil>=2.7 in /usr/local/lib/python3.11/dist-packages (from matplotlib->metadrive-simulator==0.4.3) (2.9.0.post0)\n",
            "Requirement already satisfied: ipython in /usr/local/lib/python3.11/dist-packages (from mediapy->metadrive-simulator==0.4.3) (7.34.0)\n",
            "Requirement already satisfied: charset-normalizer<4,>=2 in /usr/local/lib/python3.11/dist-packages (from requests->metadrive-simulator==0.4.3) (3.4.2)\n",
            "Requirement already satisfied: idna<4,>=2.5 in /usr/local/lib/python3.11/dist-packages (from requests->metadrive-simulator==0.4.3) (3.10)\n",
            "Requirement already satisfied: urllib3<3,>=1.21.1 in /usr/local/lib/python3.11/dist-packages (from requests->metadrive-simulator==0.4.3) (2.4.0)\n",
            "Requirement already satisfied: certifi>=2017.4.17 in /usr/local/lib/python3.11/dist-packages (from requests->metadrive-simulator==0.4.3) (2025.6.15)\n",
            "Requirement already satisfied: platformdirs>=3.5.1 in /usr/local/lib/python3.11/dist-packages (from yapf->metadrive-simulator==0.4.3) (4.3.8)\n",
            "Requirement already satisfied: six>=1.5 in /usr/local/lib/python3.11/dist-packages (from python-dateutil>=2.7->matplotlib->metadrive-simulator==0.4.3) (1.17.0)\n",
            "Requirement already satisfied: setuptools>=18.5 in /usr/local/lib/python3.11/dist-packages (from ipython->mediapy->metadrive-simulator==0.4.3) (75.2.0)\n",
            "Requirement already satisfied: jedi>=0.16 in /usr/local/lib/python3.11/dist-packages (from ipython->mediapy->metadrive-simulator==0.4.3) (0.19.2)\n",
            "Requirement already satisfied: decorator in /usr/local/lib/python3.11/dist-packages (from ipython->mediapy->metadrive-simulator==0.4.3) (4.4.2)\n",
            "Requirement already satisfied: pickleshare in /usr/local/lib/python3.11/dist-packages (from ipython->mediapy->metadrive-simulator==0.4.3) (0.7.5)\n",
            "Requirement already satisfied: traitlets>=4.2 in /usr/local/lib/python3.11/dist-packages (from ipython->mediapy->metadrive-simulator==0.4.3) (5.7.1)\n",
            "Requirement already satisfied: prompt-toolkit!=3.0.0,!=3.0.1,<3.1.0,>=2.0.0 in /usr/local/lib/python3.11/dist-packages (from ipython->mediapy->metadrive-simulator==0.4.3) (3.0.51)\n",
            "Requirement already satisfied: backcall in /usr/local/lib/python3.11/dist-packages (from ipython->mediapy->metadrive-simulator==0.4.3) (0.2.0)\n",
            "Requirement already satisfied: matplotlib-inline in /usr/local/lib/python3.11/dist-packages (from ipython->mediapy->metadrive-simulator==0.4.3) (0.1.7)\n",
            "Requirement already satisfied: pexpect>4.3 in /usr/local/lib/python3.11/dist-packages (from ipython->mediapy->metadrive-simulator==0.4.3) (4.9.0)\n",
            "Requirement already satisfied: parso<0.9.0,>=0.8.4 in /usr/local/lib/python3.11/dist-packages (from jedi>=0.16->ipython->mediapy->metadrive-simulator==0.4.3) (0.8.4)\n",
            "Requirement already satisfied: ptyprocess>=0.5 in /usr/local/lib/python3.11/dist-packages (from pexpect>4.3->ipython->mediapy->metadrive-simulator==0.4.3) (0.7.0)\n",
            "Requirement already satisfied: wcwidth in /usr/local/lib/python3.11/dist-packages (from prompt-toolkit!=3.0.0,!=3.0.1,<3.1.0,>=2.0.0->ipython->mediapy->metadrive-simulator==0.4.3) (0.2.13)\n"
          ]
        }
      ],
      "source": [
        "#@title Collect the MetaDrive\n",
        "\n",
        "%pip install git+https://github.com/metadriverse/metadrive.git"
      ]
    },
    {
      "cell_type": "code",
      "execution_count": 5,
      "metadata": {
        "id": "EMlWH2EK20kA",
        "outputId": "7549dbb9-4bfa-455b-a458-d5b6b6261227",
        "colab": {
          "base_uri": "https://localhost:8080/"
        }
      },
      "outputs": [
        {
          "output_type": "stream",
          "name": "stderr",
          "text": [
            "\u001b[38;20m[INFO] Environment: MetaDriveEnv\u001b[0m\n",
            "\u001b[38;20m[INFO] MetaDrive version: 0.4.3\u001b[0m\n",
            "\u001b[38;20m[INFO] Sensors: [lidar: Lidar(), side_detector: SideDetector(), lane_line_detector: LaneLineDetector()]\u001b[0m\n",
            "\u001b[38;20m[INFO] Render Mode: none\u001b[0m\n",
            "\u001b[38;20m[INFO] Horizon (Max steps per agent): 1000\u001b[0m\n",
            "\u001b[38;20m[INFO] Assets version: 0.4.3\u001b[0m\n",
            "\u001b[38;20m[INFO] Known Pipes: glxGraphicsPipe\u001b[0m\n",
            "\u001b[38;20m[INFO] Start Scenario Index: 0, Num Scenarios : 1\u001b[0m\n"
          ]
        },
        {
          "output_type": "stream",
          "name": "stdout",
          "text": [
            "\n",
            "The action space: Box(-1.0, 1.0, (2,), float32)\n",
            "\n",
            "The observation space: Box(-0.0, 1.0, (259,), float32)\n",
            "\n",
            "Successfully run MetaDrive\n"
          ]
        }
      ],
      "source": [
        "# @title Test Installation\n",
        "from metadrive.engine.engine_utils import close_engine\n",
        "close_engine()\n",
        "# NOTE: usually you don't need the above lines. It is only for avoiding a potential bug when running on colab\n",
        "\n",
        "from metadrive import MetaDriveEnv\n",
        "from metadrive.examples import expert\n",
        "\n",
        "env = MetaDriveEnv()\n",
        "print(\"\\nThe action space: {}\".format(env.action_space))\n",
        "print(\"\\nThe observation space: {}\\n\".format(env.observation_space))\n",
        "try:\n",
        "    env.reset()\n",
        "    for i in range(100):\n",
        "        env.step(env.action_space.sample())\n",
        "    print(\"Successfully run MetaDrive\")\n",
        "except:\n",
        "    raise ValueError(\"Fail to run MetaDrive!\")\n",
        "finally:\n",
        "    env.close()\n",
        "\n"
      ]
    },
    {
      "cell_type": "markdown",
      "metadata": {
        "id": "QhteKnQ5kqEg",
        "pycharm": {
          "name": "#%% md\n"
        }
      },
      "source": [
        "## Basic Functionality"
      ]
    },
    {
      "cell_type": "code",
      "execution_count": null,
      "metadata": {
        "id": "898SwWaHkqEg",
        "pycharm": {
          "name": "#%%\n"
        }
      },
      "outputs": [],
      "source": [
        "# @title A minimalist example of using MetaDrive with the built-in PPO expert policy\n",
        "from metadrive.engine.engine_utils import close_engine\n",
        "close_engine()\n",
        "# NOTE: usually you don't need the above lines. It is only for avoiding a potential bug when running on colab\n",
        "\n",
        "import os\n",
        "os.environ['SDL_VIDEODRIVER']='dummy'\n",
        "# Note: this step is only for cheating Colab\n",
        "\n",
        "from metadrive import MetaDriveEnv\n",
        "from metadrive.examples import expert\n",
        "\n",
        "# Set the envrionment config\n",
        "config = {\"start_seed\": 1000,\n",
        "          \"num_scenarios\":1,\n",
        "          \"traffic_density\":0.1,\n",
        "          }\n",
        "\n",
        "env = MetaDriveEnv(config)\n",
        "\n",
        "print(\"Starting the environment ...\\n\")\n",
        "\n",
        "ep_reward = 0.0\n",
        "obs, info = env.reset()\n",
        "for i in range(1000):\n",
        "    obs, reward, terminated, truncated, info = env.step(expert(env.agent))\n",
        "    ep_reward += reward\n",
        "    env.render(mode=\"top_down\", screen_record=True, screen_size=(500, 500))\n",
        "    if terminated or truncated:\n",
        "        print(\"Arriving Destination: {}\".format(info[\"arrive_dest\"]))\n",
        "        print(\"\\nEpisode reward: \", ep_reward)\n",
        "        break\n",
        "\n",
        "print(\"\\nThe last returned information: {}\".format(info))\n",
        "env.top_down_renderer.generate_gif()\n",
        "env.close()\n",
        "print(\"\\nMetaDrive successfully run!\")\n",
        "\n",
        "from IPython.display import Image\n",
        "Image(open(\"demo.gif\", 'rb').read())\n"
      ]
    },
    {
      "cell_type": "code",
      "execution_count": null,
      "metadata": {
        "id": "okkYHCF620kB"
      },
      "outputs": [],
      "source": [
        "# @title PPO expert policy can also drive in the safety-critical SafeMetaDrive environment\n",
        "from metadrive.engine.engine_utils import close_engine\n",
        "close_engine()\n",
        "# NOTE: usually you don't need the above lines. It is only for avoiding a potential bug when running on colab\n",
        "\n",
        "import os\n",
        "os.environ['SDL_VIDEODRIVER']='dummy'\n",
        "# Note: this step is only for cheating Colab\n",
        "\n",
        "from metadrive import SafeMetaDriveEnv\n",
        "from metadrive.examples import expert\n",
        "\n",
        "# Set the environment config\n",
        "config = {\"start_seed\": 0,\n",
        "          \"num_scenarios\":1,\n",
        "          \"accident_prob\":1.0,\n",
        "          \"traffic_density\":0.25,\n",
        "          }\n",
        "\n",
        "env = SafeMetaDriveEnv(config)\n",
        "\n",
        "print(\"Starting the environment ...\\n\")\n",
        "\n",
        "ep_reward = 0.0\n",
        "ep_cost = 0.0\n",
        "obs, info = env.reset()\n",
        "frames = []\n",
        "for i in range(1000):\n",
        "    obs, reward, terminated, truncated, info = env.step(expert(env.agent))\n",
        "    ep_reward += reward\n",
        "    ep_cost += info[\"cost\"]\n",
        "    frame = env.render(mode=\"top_down\", window=False, screen_size=(500, 500))\n",
        "    frames.append(frame)\n",
        "    if terminated or truncated:\n",
        "        print(\"Arriving Destination: {}\".format(info[\"arrive_dest\"]))\n",
        "        print(\"\\nEpisode reward: \", ep_reward)\n",
        "        print(\"\\nEpisode cost: \", ep_cost)\n",
        "        break\n",
        "\n",
        "env.close()\n",
        "print(\"\\nMetaDrive successfully run!\")\n",
        "\n",
        "# render image\n",
        "print(\"\\nGenerate gif...\")\n",
        "import pygame\n",
        "import numpy as np\n",
        "from PIL import Image\n",
        "\n",
        "imgs = [frame for frame in frames]\n",
        "imgs = [Image.fromarray(img) for img in imgs]\n",
        "imgs[0].save(\"demo.gif\", save_all=True, append_images=imgs[1:], duration=50, loop=0)\n",
        "print(\"\\nOpen gif...\")\n",
        "from IPython.display import Image\n",
        "Image(open(\"demo.gif\", 'rb').read())"
      ]
    },
    {
      "cell_type": "code",
      "execution_count": null,
      "metadata": {
        "id": "PyEO-Klc20kC"
      },
      "outputs": [],
      "source": [
        "# @title Multi-agent Environment Visualization\n",
        "from metadrive.engine.engine_utils import close_engine\n",
        "close_engine()\n",
        "# NOTE: usually you don't need the above lines. It is only for avoiding a potential bug when running on colab\n",
        "\n",
        "import os\n",
        "os.environ['SDL_VIDEODRIVER']='dummy'\n",
        "# Note: this step is only for cheating Colab\n",
        "\n",
        "from metadrive.envs.marl_envs import MultiAgentRoundaboutEnv, MultiAgentBottleneckEnv, MultiAgentIntersectionEnv, MultiAgentParkingLotEnv, MultiAgentTollgateEnv\n",
        "from metadrive.examples import expert\n",
        "\n",
        "env_classes = [MultiAgentRoundaboutEnv,\n",
        "        MultiAgentBottleneckEnv,\n",
        "        MultiAgentIntersectionEnv,\n",
        "        MultiAgentParkingLotEnv,\n",
        "        MultiAgentTollgateEnv]\n",
        "\n",
        "frames = []\n",
        "for env_class in env_classes:\n",
        "    env = env_class()\n",
        "    print(\"Starting the environment {}\\n\".format(env))\n",
        "    env.reset()\n",
        "    tm={\"__all__\":False}\n",
        "    for i in range(100):\n",
        "        if tm[\"__all__\"]:\n",
        "            frames.append(frame)\n",
        "            continue\n",
        "        action = env.action_space.sample()\n",
        "        for a in action.values():\n",
        "            a[-1] = 1.0\n",
        "        o,r,tm,tc,i = env.step(action)\n",
        "        frame = env.render(mode=\"top_down\",\n",
        "                           scaling=4, # 4 pixels per meter\n",
        "                           camera_position=env.current_map.get_center_point(),\n",
        "                           screen_size=(500, 500))\n",
        "        frames.append(frame)\n",
        "    env.close()\n",
        "\n",
        "# render image\n",
        "print(\"\\nGenerate gif...\")\n",
        "import pygame\n",
        "import numpy as np\n",
        "from PIL import Image\n",
        "\n",
        "imgs = [frame for frame in frames]\n",
        "imgs = [Image.fromarray(img) for img in imgs]\n",
        "imgs[0].save(\"demo.gif\", save_all=True, append_images=imgs[1:], duration=50, loop=0)\n",
        "print(\"\\nOpen gif...\")\n",
        "from IPython.display import Image\n",
        "Image(open(\"demo.gif\", 'rb').read())"
      ]
    },
    {
      "cell_type": "code",
      "execution_count": null,
      "metadata": {
        "id": "zoFriCbh20kC"
      },
      "outputs": [],
      "source": [
        "# @title Real-world Scenario Environment Visualization\n",
        "from metadrive.engine.engine_utils import close_engine\n",
        "close_engine()\n",
        "# NOTE: usually you don't need the above lines. It is only for avoiding a potential bug when running on colab\n",
        "\n",
        "import argparse\n",
        "import random\n",
        "from metadrive.policy.replay_policy import ReplayEgoCarPolicy\n",
        "from metadrive.constants import HELP_MESSAGE\n",
        "from metadrive.engine.asset_loader import AssetLoader\n",
        "from metadrive.envs import ScenarioEnv\n",
        "\n",
        "\n",
        "class DemoEnv(ScenarioEnv):\n",
        "    def reset(self, seed=None):\n",
        "        if self.engine is not None:\n",
        "            seeds = [i for i in range(self.config[\"num_scenarios\"])]\n",
        "            seeds.remove(self.current_seed)\n",
        "            seed = random.choice(seeds)\n",
        "        return super(DemoEnv, self).reset(seed=seed)\n",
        "\n",
        "\n",
        "extra_args = dict(film_size=(1200, 1200))\n",
        "asset_path = AssetLoader.asset_path\n",
        "\n",
        "try:\n",
        "    env = DemoEnv(\n",
        "        {\n",
        "            \"manual_control\": False,\n",
        "            \"reactive_traffic\": False,\n",
        "            \"use_render\": False,\n",
        "            \"agent_policy\": ReplayEgoCarPolicy,\n",
        "            \"data_directory\": AssetLoader.file_path(asset_path, \"waymo\", unix_style=False),\n",
        "            \"num_scenarios\": 3\n",
        "        }\n",
        "    )\n",
        "    o, _ = env.reset()\n",
        "    frames = []\n",
        "    for i in range(1, 100000):\n",
        "        o, r, tm, tc, info = env.step([1.0, 0.])\n",
        "        frame=env.render(\n",
        "            mode=\"top_down\",\n",
        "            **extra_args\n",
        "        )\n",
        "        frames.append(frame)\n",
        "        if tm or tc:\n",
        "            env.reset()\n",
        "            break\n",
        "\n",
        "except Exception as e:\n",
        "    raise e\n",
        "finally:\n",
        "    env.close()\n",
        "\n",
        "# render image\n",
        "print(\"\\nGenerate gif...\")\n",
        "import pygame\n",
        "import numpy as np\n",
        "from PIL import Image\n",
        "\n",
        "imgs = [frame for frame in frames]\n",
        "imgs = [Image.fromarray(img) for img in imgs]\n",
        "imgs[0].save(\"demo.gif\", save_all=True, append_images=imgs[1:], duration=50, loop=0)\n",
        "print(\"\\nOpen gif...\")\n",
        "from IPython.display import Image\n",
        "Image(open(\"demo.gif\", 'rb').read())"
      ]
    },
    {
      "cell_type": "markdown",
      "metadata": {
        "id": "ClZzNVQUkqEh",
        "pycharm": {
          "name": "#%% md\n"
        }
      },
      "source": [
        "## Map Generation"
      ]
    },
    {
      "cell_type": "code",
      "execution_count": null,
      "metadata": {
        "id": "NUawlJubkqEh",
        "pycharm": {
          "name": "#%%\n"
        }
      },
      "outputs": [],
      "source": [
        "# @title Draw the generated maps in top-down view\n",
        "from metadrive.engine.engine_utils import close_engine\n",
        "close_engine()\n",
        "# NOTE: usually you don't need the above lines. It is only for avoiding a potential bug when running on colab\n",
        "\n",
        "\n",
        "import random\n",
        "\n",
        "import matplotlib.pyplot as plt\n",
        "from metadrive import MetaDriveEnv\n",
        "from metadrive.utils.draw_top_down_map import draw_top_down_map\n",
        "\n",
        "env = MetaDriveEnv(config=dict(\n",
        "    num_scenarios=100,\n",
        "    map=7,\n",
        "    start_seed=random.randint(0, 1000)\n",
        "))\n",
        "\n",
        "fig, axs = plt.subplots(4, 4, figsize=(10, 10), dpi=100)\n",
        "for i in range(4):\n",
        "    for j in range(4):\n",
        "        env.reset()\n",
        "        m = draw_top_down_map(env.current_map)\n",
        "        ax = axs[i][j]\n",
        "        ax.imshow(m, cmap=\"bone\")\n",
        "        ax.set_xticks([])\n",
        "        ax.set_yticks([])\n",
        "fig.suptitle(\"Bird's-eye view of generated maps\")\n",
        "plt.show()\n",
        "\n",
        "env.close()\n"
      ]
    },
    {
      "cell_type": "code",
      "execution_count": null,
      "metadata": {
        "id": "HyL36-nekqEh",
        "pycharm": {
          "name": "#%%\n"
        }
      },
      "outputs": [],
      "source": [
        "# @title Draw the generated maps in top-down view with fixed block sequence\n",
        "# @markdown You can also specify the road block sequence then randomize the block parameters.\n",
        "# @markdown Please refer to [documentation](https://metadrive-simulator.readthedocs.io/en/latest/env_config.html#map-config) for the meaning of the map string.\n",
        "from metadrive.engine.engine_utils import close_engine\n",
        "close_engine()\n",
        "# NOTE: usually you don't need the above lines. It is only for avoiding a potential bug when running on colab\n",
        "\n",
        "\n",
        "import random\n",
        "\n",
        "import matplotlib.pyplot as plt\n",
        "\n",
        "from metadrive import MetaDriveEnv\n",
        "\n",
        "env = MetaDriveEnv(config=dict(\n",
        "    num_scenarios=100,\n",
        "    map=\"CrTRXOS\",\n",
        "    start_seed=random.randint(0, 1000)\n",
        "))\n",
        "\n",
        "fig, axs = plt.subplots(4, 4, figsize=(10, 10), dpi=100)\n",
        "for i in range(4):\n",
        "    for j in range(4):\n",
        "        env.reset()\n",
        "        m = draw_top_down_map(env.current_map)\n",
        "        ax = axs[i][j]\n",
        "        ax = axs[i][j]\n",
        "        ax.imshow(m, cmap=\"bone\")\n",
        "        ax.set_xticks([])\n",
        "        ax.set_yticks([])\n",
        "fig.suptitle(\"Bird's-eye view of generated maps\")\n",
        "plt.show()\n",
        "\n",
        "env.close()\n"
      ]
    },
    {
      "cell_type": "markdown",
      "metadata": {
        "id": "IthWzYwG20kE"
      },
      "source": [
        "## 3D Renderer\n",
        "For using the 3D renderer, just set `use_render=True` in the environment config. Or you can turn on the `image_observation`, which will make an offscreen renderer so we can access the rendered result by capturing frames."
      ]
    },
    {
      "cell_type": "code",
      "execution_count": null,
      "metadata": {
        "id": "-XORj6kq20kE"
      },
      "outputs": [],
      "source": [
        "from metadrive.envs.metadrive_env import MetaDriveEnv\n",
        "import os\n",
        "\n",
        "cfg=dict(image_observation=True,\n",
        "         show_terrain=not os.getenv('TEST_IPYNB'),\n",
        "         sensors={\"main_camera\": ()},\n",
        "         vehicle_config=dict(image_source=\"main_camera\"),\n",
        "         window_size=(84, 60))\n",
        "\n",
        "env=MetaDriveEnv(cfg)\n",
        "try:\n",
        "    env.reset()\n",
        "    for _ in range(1 if os.getenv('TEST_DOC') else 5):\n",
        "        env.step([0,0])\n",
        "    env.capture(\"3d_renderer.png\")\n",
        "\n",
        "finally:\n",
        "    env.close()"
      ]
    },
    {
      "cell_type": "code",
      "execution_count": null,
      "metadata": {
        "id": "julIeYG-20kE"
      },
      "outputs": [],
      "source": [
        "from IPython.display import Image\n",
        "Image(open(\"3d_renderer.png\", \"rb\").read())"
      ]
    }
  ],
  "metadata": {
    "colab": {
      "provenance": []
    },
    "kernelspec": {
      "display_name": "Python 3 (ipykernel)",
      "language": "python",
      "name": "python3"
    },
    "language_info": {
      "codemirror_mode": {
        "name": "ipython",
        "version": 3
      },
      "file_extension": ".py",
      "mimetype": "text/x-python",
      "name": "python",
      "nbconvert_exporter": "python",
      "pygments_lexer": "ipython3",
      "version": "3.7.13"
    }
  },
  "nbformat": 4,
  "nbformat_minor": 0
}